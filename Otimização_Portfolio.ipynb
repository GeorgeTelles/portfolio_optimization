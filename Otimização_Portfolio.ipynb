{
  "nbformat": 4,
  "nbformat_minor": 0,
  "metadata": {
    "colab": {
      "provenance": [],
      "authorship_tag": "ABX9TyMRDybQpDWqjTlDgSmoDk7o",
      "include_colab_link": true
    },
    "kernelspec": {
      "name": "python3",
      "display_name": "Python 3"
    },
    "language_info": {
      "name": "python"
    }
  },
  "cells": [
    {
      "cell_type": "markdown",
      "metadata": {
        "id": "view-in-github",
        "colab_type": "text"
      },
      "source": [
        "<a href=\"https://colab.research.google.com/github/GeorgeTelles/portfolio_optimization/blob/main/Otimiza%C3%A7%C3%A3o_Portfolio.ipynb\" target=\"_parent\"><img src=\"https://colab.research.google.com/assets/colab-badge.svg\" alt=\"Open In Colab\"/></a>"
      ]
    },
    {
      "cell_type": "markdown",
      "source": [
        "<div>\n",
        "  <img src=\"https://raw.githubusercontent.com/GeorgeTelles/georgetelles/f69531ec6b293b5148563588a764c010015d315e/logo_clara.png\" alt=\"logo clara\" width=\"300\" style=\"display: inline-block; vertical-align: top; margin-right: 10px;\">\n",
        "  <img src=\"https://raw.githubusercontent.com/GeorgeTelles/georgetelles/f69531ec6b293b5148563588a764c010015d315e/logo_dark.png\" alt=\"logo dark\" width=\"300\" style=\"display: inline-block; vertical-align: top;\">\n",
        "</div>\n"
      ],
      "metadata": {
        "id": "-spYwqZ6k9zf"
      }
    },
    {
      "cell_type": "markdown",
      "source": [
        "#Otimização de portfolio"
      ],
      "metadata": {
        "id": "dcC3XcSMzzuT"
      }
    },
    {
      "cell_type": "markdown",
      "source": [
        "**Este projeto visa otimizar carteiras de investimento utilizando a técnica de Monte Carlo. A ferramenta realiza milhares de simulações para identificar a fronteira eficiente do portfólio e determinar os pesos ideais com base em duas principais estratégias: Maximização do Índice de Sharpe e Minimização da Volatilidade.**"
      ],
      "metadata": {
        "id": "AcP6vP2DaH4l"
      }
    },
    {
      "cell_type": "markdown",
      "source": [
        "#Instalando e importando Bibliotecas e Modulos"
      ],
      "metadata": {
        "id": "x1O3dG_CSR0f"
      }
    },
    {
      "cell_type": "code",
      "source": [
        "!pip install finquant"
      ],
      "metadata": {
        "id": "csx8G7w0z3YL"
      },
      "execution_count": null,
      "outputs": []
    },
    {
      "cell_type": "code",
      "source": [
        "from finquant.portfolio import build_portfolio\n",
        "from matplotlib import pyplot as plt\n",
        "from matplotlib.pyplot import figure\n",
        "import pandas as pd"
      ],
      "metadata": {
        "id": "pjLRL3xu1POM"
      },
      "execution_count": null,
      "outputs": []
    },
    {
      "cell_type": "markdown",
      "source": [
        "**Ativos da Carteira**"
      ],
      "metadata": {
        "id": "4LbwKgLISh2l"
      }
    },
    {
      "cell_type": "code",
      "source": [
        "ticks = [\"^BVSP\", \"VALE3.SA\", \"PETR4.SA\", \"WEGE3.SA\", \"ABEV3.SA\", \"HGLG11.SA\"]"
      ],
      "metadata": {
        "id": "F0NvioLW0Wab"
      },
      "execution_count": null,
      "outputs": []
    },
    {
      "cell_type": "markdown",
      "source": [
        "**Data para Analise**"
      ],
      "metadata": {
        "id": "IWGPAdWaSjwt"
      }
    },
    {
      "cell_type": "code",
      "source": [
        "start_date = \"2021-01-01\"\n",
        "end_date = \"2024-08-01\""
      ],
      "metadata": {
        "id": "VMP294Fg0oHM"
      },
      "execution_count": null,
      "outputs": []
    },
    {
      "cell_type": "markdown",
      "source": [
        "**Obtendo dados do Yahoo Finance**"
      ],
      "metadata": {
        "id": "GFkkGD9LS3Ee"
      }
    },
    {
      "cell_type": "code",
      "source": [
        "pf = build_portfolio(names=ticks, start_date=start_date, end_date=end_date, data_api=\"yfinance\")\n",
        "pf.data"
      ],
      "metadata": {
        "id": "G8Qz5Mt-0vQ8"
      },
      "execution_count": null,
      "outputs": []
    },
    {
      "cell_type": "markdown",
      "source": [
        "**Retornos Acumulados**"
      ],
      "metadata": {
        "id": "n-Sm1bs2S881"
      }
    },
    {
      "cell_type": "code",
      "source": [
        "pf.comp_cumulative_returns()"
      ],
      "metadata": {
        "id": "rTxxPXhk2oiJ"
      },
      "execution_count": null,
      "outputs": []
    },
    {
      "cell_type": "code",
      "source": [
        "pf.comp_cumulative_returns().plot()"
      ],
      "metadata": {
        "id": "8ozfWsbZJaD7"
      },
      "execution_count": null,
      "outputs": []
    },
    {
      "cell_type": "markdown",
      "source": [
        "**Fazendo simulações para acha a Frontera Eficiente (melhor combinação de pesos para a carteira)**"
      ],
      "metadata": {
        "id": "6QlngDUcZV6W"
      }
    },
    {
      "cell_type": "markdown",
      "source": [
        "10 mil iterações com o método de Monte Carlo"
      ],
      "metadata": {
        "id": "Gpxi8L3CZjaJ"
      }
    },
    {
      "cell_type": "code",
      "source": [
        "opt_w, opt_res = pf.mc_optimisation(num_trials = 10000)"
      ],
      "metadata": {
        "id": "pyTtF9lWJfPK"
      },
      "execution_count": null,
      "outputs": []
    },
    {
      "cell_type": "code",
      "source": [
        "figure(figsize=(8,8), dpi = 120)\n",
        "\n",
        "pf.mc_plot_results()\n",
        "\n",
        "pf.ef_plot_efrontier()\n",
        "\n",
        "pf.ef_plot_optimal_portfolios()\n",
        "\n",
        "pf.plot_stocks()\n",
        "\n",
        "plt.savefig(\"efficientefrontier.png\")"
      ],
      "metadata": {
        "id": "GM6CKoFzZyOT"
      },
      "execution_count": null,
      "outputs": []
    },
    {
      "cell_type": "markdown",
      "source": [
        "**Resultado das 2 Melhores formas de Compor a carteira**"
      ],
      "metadata": {
        "id": "TAe6_PTAblYB"
      }
    },
    {
      "cell_type": "code",
      "source": [
        "opt_w*100"
      ],
      "metadata": {
        "id": "enK3-p39ajoZ"
      },
      "execution_count": null,
      "outputs": []
    },
    {
      "cell_type": "code",
      "source": [
        "#resultados das carteiras\n",
        "opt_res_2 = opt_res.copy()\n",
        "opt_res_2[\"Expected Return\"] = opt_res[\"Expected Return\"]*100\n",
        "opt_res_2[\"Volatility\"] = opt_res[\"Volatility\"]*100\n",
        "opt_res_2\n"
      ],
      "metadata": {
        "id": "UvlAskDobktr"
      },
      "execution_count": null,
      "outputs": []
    },
    {
      "cell_type": "markdown",
      "source": [
        "#Graficos de distribuição das Carteiras"
      ],
      "metadata": {
        "id": "f1R26Y0WZ7-d"
      }
    },
    {
      "cell_type": "code",
      "source": [
        "# Extraindo os pesos ideais para cada tipo de carteira\n",
        "weights_min_volatility = opt_w.loc['Min Volatility']\n",
        "weights_max_sharpe_ratio = opt_w.loc['Max Sharpe Ratio']\n",
        "\n",
        "# Configuração da figura e eixos\n",
        "fig, axs = plt.subplots(2, 1, figsize=(14, 14))\n",
        "\n",
        "# Gráfico para a carteira com menor volatilidade\n",
        "axs[0].pie(\n",
        "    weights_min_volatility,\n",
        "    labels=weights_min_volatility.index,\n",
        "    autopct='%1.1f%%',\n",
        "    colors=plt.cm.Paired(range(len(weights_min_volatility))),\n",
        "    startangle=140,\n",
        "    wedgeprops={'edgecolor': 'black'}\n",
        ")\n",
        "axs[0].set_title('Pesos Ideais - Menor Volatilidade')\n",
        "axs[0].legend(\n",
        "    loc='best',\n",
        "    labels=[f'{label}: {weight*100:.2f}%' for label, weight in zip(weights_min_volatility.index, weights_min_volatility)],\n",
        "    title='Ativos',\n",
        "    bbox_to_anchor=(1, 1)  # Ajusta a posição da legenda\n",
        ")\n",
        "\n",
        "# Gráfico para a carteira com máximo Sharpe Ratio\n",
        "axs[1].pie(\n",
        "    weights_max_sharpe_ratio,\n",
        "    labels=weights_max_sharpe_ratio.index,\n",
        "    autopct='%1.1f%%',\n",
        "    colors=plt.cm.Paired(range(len(weights_max_sharpe_ratio))),\n",
        "    startangle=140,\n",
        "    wedgeprops={'edgecolor': 'black'}\n",
        ")\n",
        "axs[1].set_title('Pesos Ideais - Máximo Sharpe Ratio')\n",
        "axs[1].legend(\n",
        "    loc='best',\n",
        "    labels=[f'{label}: {weight*100:.2f}%' for label, weight in zip(weights_max_sharpe_ratio.index, weights_max_sharpe_ratio)],\n",
        "    title='Ativos',\n",
        "    bbox_to_anchor=(1, 1)\n",
        ")\n",
        "\n",
        "plt.tight_layout()\n",
        "plt.show()"
      ],
      "metadata": {
        "id": "lDL5izOoWjUm"
      },
      "execution_count": null,
      "outputs": []
    }
  ]
}